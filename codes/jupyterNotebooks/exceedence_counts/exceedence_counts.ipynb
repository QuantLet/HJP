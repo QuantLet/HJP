{
 "cells": [
  {
   "cell_type": "code",
   "execution_count": 37,
   "id": "02962741",
   "metadata": {},
   "outputs": [
    {
     "name": "stderr",
     "output_type": "stream",
     "text": [
      "2024-01-04 13:50:59.509432: I tensorflow/core/platform/cpu_feature_guard.cc:182] This TensorFlow binary is optimized to use available CPU instructions in performance-critical operations.\n",
      "To enable the following instructions: AVX2 FMA, in other operations, rebuild TensorFlow with the appropriate compiler flags.\n"
     ]
    }
   ],
   "source": [
    "import pandas as pd\n",
    "import numpy as np\n",
    "import matplotlib.pyplot as plt\n",
    "import yfinance as yf\n",
    "\n"
   ]
  },
  {
   "cell_type": "code",
   "execution_count": 33,
   "id": "306132d8",
   "metadata": {},
   "outputs": [],
   "source": [
    "SP500 = yf.Ticker(\"^GSPC\") # SP500\n",
    "SP500 = SP500.history(period=\"max\")\n",
    "\n",
    "HSI = yf.Ticker(\"^HSI\") # Hang seng index\n",
    "HSI = HSI.history(period=\"max\")\n",
    "\n",
    "NI225 = yf.Ticker(\"^N225\") # Nikkei 225\n",
    "NI225 = NI225.history(period=\"max\")\n",
    "\n",
    "DAX = yf.Ticker(\"^GDAXI\") # DAX, German\n",
    "DAX = DAX.history(period=\"max\")\n",
    "\n",
    "CAC40 = yf.Ticker(\"^FCHI\") # CAC 40, French\n",
    "CAC40 = CAC40.history(period=\"max\")\n",
    "\n",
    "FTSE100 = yf.Ticker(\"^FTSE\") # FTSE, English\n",
    "FTSE100 = FTSE100.history(period=\"max\")\n",
    "\n",
    "BTC = yf.Ticker(\"BTC-USD\") # BTC\n",
    "BTC = BTC.history(period=\"max\")\n",
    "\n",
    "ETH = yf.Ticker(\"ETH-USD\") # ETH\n",
    "ETH = ETH.history(period=\"max\")\n",
    "\n",
    "EEM = yf.Ticker(\"EEM\") # iShares MSCI Emerging Markets ETF, https://www.msci.com/documents/10199/c0db0a48-01f2-4ba9-ad01-226fd5678111\n",
    "EEM = EEM.history(period=\"max\")\n",
    "\n",
    "WSML = yf.Ticker(\"WSML.L\") # iShares MSCI World Small Cap UCITS ETF (WSML.L), https://finance.yahoo.com/quote/WSML.L/\n",
    "WSML = WSML.history(period=\"max\")"
   ]
  },
  {
   "cell_type": "code",
   "execution_count": 152,
   "id": "e2497f9f",
   "metadata": {},
   "outputs": [],
   "source": [
    "Closing_prices = dict()\n",
    "\n",
    "data_names =  ['SP500', 'HSI', 'NI225', 'FTSE100', 'DAX', 'CAC40', 'EEM', 'WSML', 'BTC', 'ETH']\n",
    "for i, data in enumerate([SP500, HSI, NI225, FTSE100, DAX, CAC40, EEM, WSML, BTC, ETH]):\n",
    "    _close = data.Close\n",
    "    _close.index = pd.Series(data.index).apply(lambda x: x.strftime('%Y-%m-%d'))\n",
    "    Closing_prices[data_names[i]] = _close"
   ]
  },
  {
   "cell_type": "code",
   "execution_count": 153,
   "id": "7f4e8c52",
   "metadata": {},
   "outputs": [],
   "source": [
    "df = pd.DataFrame(Closing_prices)\n",
    "df = df.dropna()\n",
    "log_returns = np.log(df/df.shift(1)).dropna()"
   ]
  },
  {
   "cell_type": "code",
   "execution_count": 162,
   "id": "a8bf0e16",
   "metadata": {},
   "outputs": [
    {
     "data": {
      "text/plain": [
       "Index(['2018-03-27', '2018-03-28', '2018-03-29', '2018-04-03', '2018-04-04',\n",
       "       '2018-04-06', '2018-04-09', '2018-04-10', '2018-04-11', '2018-04-12',\n",
       "       ...\n",
       "       '2023-12-14', '2023-12-15', '2023-12-18', '2023-12-19', '2023-12-20',\n",
       "       '2023-12-21', '2023-12-22', '2023-12-27', '2023-12-28', '2023-12-29'],\n",
       "      dtype='object', name='Date', length=1273)"
      ]
     },
     "execution_count": 162,
     "metadata": {},
     "output_type": "execute_result"
    }
   ],
   "source": [
    "df.index"
   ]
  },
  {
   "cell_type": "code",
   "execution_count": 154,
   "id": "bfbec49e",
   "metadata": {},
   "outputs": [],
   "source": [
    "size_grid = [0.04, 0.06, 0.08, 0.1, .2, .5]\n",
    "cdfs = []\n",
    "for s in size_grid:\n",
    "    cdfs.append((np.abs(log_returns) >= s).sum())"
   ]
  },
  {
   "cell_type": "code",
   "execution_count": 155,
   "id": "8b9748b9",
   "metadata": {},
   "outputs": [],
   "source": [
    "cdfs = pd.DataFrame(cdfs)"
   ]
  },
  {
   "cell_type": "code",
   "execution_count": 157,
   "id": "a92bc966",
   "metadata": {},
   "outputs": [],
   "source": [
    "cdfs.index = size_grid"
   ]
  },
  {
   "cell_type": "code",
   "execution_count": 160,
   "id": "d2e5c306",
   "metadata": {},
   "outputs": [
    {
     "name": "stdout",
     "output_type": "stream",
     "text": [
      "\\begin{tabular}{lrrrrrrrrrr}\n",
      "\\toprule\n",
      "{} &  SP500 &  HSI &  NI225 &  FTSE100 &  DAX &  CAC40 &  EEM &  WSML &  BTC &  ETH \\\\\n",
      "\\midrule\n",
      "0.04 &     20 &   26 &     11 &       12 &   20 &     24 &   18 &    19 &  317 &  436 \\\\\n",
      "0.06 &     10 &    4 &      3 &        3 &    4 &      6 &    8 &     4 &  173 &  273 \\\\\n",
      "0.08 &      4 &    1 &      0 &        2 &    3 &      3 &    3 &     2 &  105 &  160 \\\\\n",
      "0.10 &      1 &    0 &      0 &        1 &    2 &      1 &    2 &     1 &   56 &  100 \\\\\n",
      "0.20 &      0 &    0 &      0 &        0 &    0 &      0 &    0 &     0 &    5 &   15 \\\\\n",
      "0.50 &      0 &    0 &      0 &        0 &    0 &      0 &    0 &     0 &    0 &    1 \\\\\n",
      "\\bottomrule\n",
      "\\end{tabular}\n",
      "\n"
     ]
    }
   ],
   "source": [
    "print(cdfs.to_latex())"
   ]
  }
 ],
 "metadata": {
  "kernelspec": {
   "display_name": "py310",
   "language": "python",
   "name": "python3"
  },
  "language_info": {
   "codemirror_mode": {
    "name": "ipython",
    "version": 3
   },
   "file_extension": ".py",
   "mimetype": "text/x-python",
   "name": "python",
   "nbconvert_exporter": "python",
   "pygments_lexer": "ipython3",
   "version": "3.1.0"
  },
  "toc": {
   "base_numbering": 1,
   "nav_menu": {},
   "number_sections": true,
   "sideBar": true,
   "skip_h1_title": false,
   "title_cell": "Table of Contents",
   "title_sidebar": "Contents",
   "toc_cell": false,
   "toc_position": {},
   "toc_section_display": true,
   "toc_window_display": false
  },
  "vscode": {
   "interpreter": {
    "hash": "48aec0ae4c29259267eaa526fa91bcf2678eaedf47dd2732b9b84e1045c2f798"
   }
  }
 },
 "nbformat": 4,
 "nbformat_minor": 5
}
