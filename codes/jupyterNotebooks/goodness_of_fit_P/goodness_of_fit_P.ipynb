{
 "cells": [
  {
   "cell_type": "code",
   "execution_count": 2,
   "id": "02962741",
   "metadata": {},
   "outputs": [
    {
     "name": "stderr",
     "output_type": "stream",
     "text": [
      "2023-12-22 16:54:43.249590: I tensorflow/core/platform/cpu_feature_guard.cc:182] This TensorFlow binary is optimized to use available CPU instructions in performance-critical operations.\n",
      "To enable the following instructions: AVX2 FMA, in other operations, rebuild TensorFlow with the appropriate compiler flags.\n"
     ]
    }
   ],
   "source": [
    "import pandas as pd\n",
    "import numpy as np\n",
    "import matplotlib.pyplot as plt\n",
    "from dataclasses import fields, replace, asdict\n",
    "import scipy\n",
    "\n",
    "# analytics\n",
    "import sys\n",
    "sys.path.insert(0,'../../') # just for jupyter  notebook\n",
    "from stochvolmodels.MLE_estimator import hawkes_jd\n",
    "\n",
    "import warnings\n",
    "warnings.filterwarnings('ignore')"
   ]
  },
  {
   "cell_type": "code",
   "execution_count": 3,
   "id": "d9ca04ca",
   "metadata": {},
   "outputs": [],
   "source": [
    "def jump_compensators(nu, eta, side):\n",
    "    if side == 'p':\n",
    "        return np.exp(nu)/(1-eta)-1\n",
    "    elif side == 'm':\n",
    "        return np.exp(nu)/(1+eta)-1\n",
    "\n",
    "positive_jump_compensator = lambda nu_p, eta_p: jump_compensators(nu_p, eta_p, 'p')\n",
    "negative_jump_compensator = lambda nu_m, eta_m: jump_compensators(nu_m, eta_m, 'm')\n"
   ]
  },
  {
   "cell_type": "code",
   "execution_count": 4,
   "id": "8815e71c",
   "metadata": {},
   "outputs": [],
   "source": [
    "# Read P params\n",
    "P_params = pd.read_csv('P_params.csv', index_col=0)\n",
    "P_params.index = pd.Series(P_params.index).apply(lambda x: x[:10])\n",
    "P_params.index = pd.to_datetime(P_params.index)"
   ]
  },
  {
   "cell_type": "code",
   "execution_count": 5,
   "id": "9708f838",
   "metadata": {},
   "outputs": [],
   "source": [
    "ticker = 'BTC'\n",
    "freq = 'D'\n",
    "\n",
    "df = pd.read_csv('../../../resources/deribit/BTC-spot-combined.csv')\n",
    "_id = pd.to_datetime(df.timestamp).apply(lambda x: x.hour) == 9\n",
    "\n",
    "df = df.loc[_id, :]\n",
    "df.timestamp = df.timestamp.apply(lambda x: x[:10])\n",
    "df.timestamp = pd.to_datetime(df.timestamp)\n",
    "price = df.spot\n",
    "price.index = df.timestamp\n",
    "\n",
    "returns = np.log(price/price.shift(1))[1:]\n",
    "\n",
    "if freq == 'D':  \n",
    "    dt = 1/365\n",
    "\n",
    "elif freq == 'W':\n",
    "    dt = 1/365*7\n",
    "    \n",
    "MLE_estimator_daily = hawkes_jd.Hawkes_MLE_estimator(price)"
   ]
  },
  {
   "cell_type": "code",
   "execution_count": 6,
   "id": "54f87b7c",
   "metadata": {},
   "outputs": [
    {
     "name": "stdout",
     "output_type": "stream",
     "text": [
      "# diffusion obs: 2466\n",
      "# pos jumps obs: 185\n",
      "# neg jumps obs: 209\n",
      "Skewness of diffusion obs: 0.14862093958854553\n",
      "Excess kurtosis of diffusion obs: -0.12204855295240069\n"
     ]
    }
   ],
   "source": [
    "nu_m = P_params.nu_m.iloc[0]\n",
    "nu_p = P_params.nu_p.iloc[0]\n",
    "MLE_estimator_daily.run_Peak_over_Thresholds(nu_m0=nu_m, nu_p0=nu_p, plug_in_nus=True)"
   ]
  },
  {
   "cell_type": "code",
   "execution_count": 8,
   "id": "47d2fe1a",
   "metadata": {},
   "outputs": [],
   "source": [
    "theta_p = P_params.loc[:,'theta_p'].iloc[0]\n",
    "theta_m = P_params.loc[:,'theta_m'].iloc[0]\n",
    "kappa_p = P_params.loc[:,'kappa_p'].iloc[0]\n",
    "kappa_m = P_params.loc[:,'kappa_m'].iloc[0]\n",
    "beta11  = P_params.loc[:,'beta11'].iloc[0]\n",
    "beta12  = P_params.loc[:,'beta12'].iloc[0]\n",
    "beta21  = P_params.loc[:,'beta21'].iloc[0]\n",
    "beta22  = P_params.loc[:,'beta22'].iloc[0]\n",
    "eta_p   = P_params.loc[:,'eta_p'].iloc[0]\n",
    "eta_m   = P_params.loc[:,'eta_m'].iloc[0]\n",
    "nu_p    = P_params.loc[:,'nu_p'].iloc[0]\n",
    "nu_m    = P_params.loc[:,'nu_m'].iloc[0]\n",
    "\n",
    "mu = 0\n",
    "sigma = P_params.sigma.iloc[0]"
   ]
  },
  {
   "cell_type": "code",
   "execution_count": 9,
   "id": "1a6c526f",
   "metadata": {},
   "outputs": [],
   "source": [
    "jump_size = pd.Series(np.zeros(len(returns)), index=returns.index)\n",
    "jump_size.loc[returns >= nu_p] = returns.loc[returns >= nu_p]\n",
    "jump_size.loc[returns <= nu_m] = returns.loc[returns <= nu_m]\n",
    "jump_size.name = 'jump_size'"
   ]
  },
  {
   "cell_type": "code",
   "execution_count": 10,
   "id": "423497bb",
   "metadata": {},
   "outputs": [],
   "source": [
    "jumps_info = pd.concat([returns, jump_size], axis=1)"
   ]
  },
  {
   "cell_type": "code",
   "execution_count": 11,
   "id": "881fe9a5",
   "metadata": {},
   "outputs": [],
   "source": [
    "SECONDS_PER_YEAR = 365 * 24 * 60 * 60  # minute, seconds\n",
    "jumps_info.loc[:,'t'] = pd.Series(jumps_info.index - jumps_info.index[0], index=jumps_info.index).apply(lambda x: x.total_seconds()/SECONDS_PER_YEAR)"
   ]
  },
  {
   "cell_type": "code",
   "execution_count": 12,
   "id": "b91d0c92",
   "metadata": {},
   "outputs": [],
   "source": [
    "_id = jumps_info.jump_size != 0 \n",
    "jumps_info = jumps_info.loc[_id]"
   ]
  },
  {
   "cell_type": "code",
   "execution_count": 13,
   "id": "739ff2e8",
   "metadata": {},
   "outputs": [],
   "source": [
    "# Compute compensators\n",
    "lambda_p_left_arr = [theta_p]\n",
    "lambda_m_left_arr = [theta_m]\n",
    "\n",
    "lambda_p_right_arr = [theta_p]\n",
    "lambda_m_right_arr = [theta_m]\n",
    "\n",
    "for i in range(1, len(jumps_info)):\n",
    "    _T = jumps_info.t.iloc[i-1]\n",
    "    _lambda_p_T_right = lambda_p_right_arr[-1]\n",
    "    _lambda_m_T_right = lambda_m_right_arr[-1]\n",
    "\n",
    "    T = jumps_info.t.iloc[i]\n",
    "    jump_size = jumps_info.jump_size.iloc[i]\n",
    "    lambda_p_T_left  = (_lambda_p_T_right - theta_p)*np.exp(-kappa_p*(T - _T)) + theta_p\n",
    "    lambda_m_T_left  = (_lambda_m_T_right - theta_m)*np.exp(-kappa_m*(T - _T)) + theta_m\n",
    "\n",
    "    if jump_size > 0:\n",
    "        lambda_p_T_right = lambda_p_T_left + beta11*jump_size\n",
    "        lambda_m_T_right = lambda_m_T_left + beta21*jump_size\n",
    "    else:\n",
    "        lambda_p_T_right = lambda_p_T_left + beta12*jump_size\n",
    "        lambda_m_T_right = lambda_m_T_left + beta22*jump_size\n",
    "\n",
    "    lambda_p_left_arr.append(lambda_p_T_left)\n",
    "    lambda_m_left_arr.append(lambda_m_T_left)\n",
    "\n",
    "    lambda_p_right_arr.append(lambda_p_T_right)\n",
    "    lambda_m_right_arr.append(lambda_m_T_right)\n",
    "\n",
    "jumps_info.loc[:,'lambda_p_left'] = lambda_p_left_arr\n",
    "jumps_info.loc[:,'lambda_m_left'] = lambda_m_left_arr\n",
    "\n",
    "jumps_info.loc[:,'lambda_p_right'] = lambda_p_right_arr\n",
    "jumps_info.loc[:,'lambda_m_right'] = lambda_m_right_arr\n",
    "\n",
    "# Get compensators, integrals of lambdas from last jump time to current jump time\n",
    "comp_p = ( theta_p*(jumps_info.t-jumps_info.t.shift(1)) + (jumps_info.lambda_p_right.shift(1)-theta_p)/kappa_p*( 1 - np.exp(-kappa_p*(jumps_info.t-jumps_info.t.shift(1)) )  )  )\n",
    "comp_m = ( theta_m*(jumps_info.t-jumps_info.t.shift(1)) + (jumps_info.lambda_m_right.shift(1)-theta_m)/kappa_m*( 1 - np.exp(-kappa_m*(jumps_info.t-jumps_info.t.shift(1)) )  )  )\n",
    "\n",
    "jumps_info.loc[:,'comp_p'] = comp_p\n",
    "jumps_info.loc[:,'comp_m'] = comp_m\n"
   ]
  },
  {
   "cell_type": "code",
   "execution_count": 20,
   "id": "551bd0bc",
   "metadata": {},
   "outputs": [
    {
     "data": {
      "image/png": "[encoded data removed]",
      "text/plain": [
       "<Figure size 1000x500 with 2 Axes>"
      ]
     },
     "metadata": {},
     "output_type": "display_data"
    }
   ],
   "source": [
    "p_id = jumps_info.jump_size > 0 \n",
    "m_id = jumps_info.jump_size < 0 \n",
    "\n",
    "transformed_p_tau = jumps_info.comp_p.cumsum()[p_id].diff()\n",
    "transformed_m_tau = jumps_info.comp_m.cumsum()[m_id].diff()\n",
    "\n",
    "transformed_p_tau = transformed_p_tau.dropna()\n",
    "transformed_m_tau = transformed_m_tau.dropna()\n",
    "\n",
    "transformed_p_tau_q = transformed_p_tau.apply(lambda x: np.clip(np.mean(transformed_p_tau<=x), 0.00001,.9999))\n",
    "transformed_m_tau_q = transformed_m_tau.apply(lambda x: np.clip(np.mean(transformed_m_tau<=x), 0.00001,.9999))\n",
    "\n",
    "theo_tau_p = scipy.stats.expon.ppf(transformed_p_tau_q)\n",
    "theo_tau_p = pd.Series(theo_tau_p, index=transformed_p_tau_q.index)\n",
    "\n",
    "theo_tau_m = scipy.stats.expon.ppf(transformed_m_tau_q)\n",
    "theo_tau_m = pd.Series(theo_tau_m, index=transformed_m_tau_q.index)\n",
    "\n",
    "fig, ax = plt.subplots(1, 2, figsize=(10,5), sharex=True, sharey=True)\n",
    "\n",
    "train_id_p = transformed_p_tau.index < '2019-05-30'\n",
    "train_id_m = transformed_m_tau.index < '2019-05-30'\n",
    "\n",
    "test_id_p = transformed_p_tau.index > '2019-05-30'\n",
    "test_id_m = transformed_m_tau.index > '2019-05-30'\n",
    "\n",
    "ax[0].scatter(theo_tau_p.loc[train_id_p], transformed_p_tau.loc[train_id_p], marker='o', color='blue', alpha=0.75, zorder=10, facecolors='none')\n",
    "ax[1].scatter(theo_tau_m.loc[train_id_m], transformed_m_tau.loc[train_id_m], marker='o', color='orange', alpha=0.75, zorder=10, facecolors='none')\n",
    "\n",
    "ax[0].scatter(theo_tau_p.loc[test_id_p], transformed_p_tau.loc[test_id_p], marker='x', color='blue', alpha=0.75, zorder=10)\n",
    "ax[1].scatter(theo_tau_m.loc[test_id_m], transformed_m_tau.loc[test_id_m], marker='x', color='orange', alpha=0.75, zorder=10)\n",
    "\n",
    "# plt.plot(np.linspace(0,1,100), np.linspace(0,1,100))\n",
    "\n",
    "all_tau = np.concatenate([theo_tau_p, transformed_p_tau, theo_tau_m, transformed_m_tau])\n",
    "_max = np.nanmax(all_tau)\n",
    "_min= np.nanmin(all_tau)\n",
    "diag = np.linspace(_min,_max,100)\n",
    "\n",
    "ax[0].plot(diag, diag, color='black')\n",
    "ax[1].plot(diag, diag, color='black')\n",
    "ax[0].set_xlabel('theoretical quantiles')\n",
    "ax[1].set_xlabel('theoretical quantiles')\n",
    "\n",
    "ax[0].set_ylabel('empirical quantiles')\n",
    "\n",
    "ax[0].set(aspect='equal')\n",
    "ax[1].set(aspect='equal')\n",
    "\n",
    "fig.suptitle(r'Theoretical quantiles vs empirical quantiles of transformed inter-arrival times')\n",
    "\n",
    "transformed_m_tau_sorted = transformed_m_tau.sort_values()\n",
    "theo_tau_m_sorted = theo_tau_m.sort_values()\n",
    "\n",
    "transformed_p_tau_sorted = transformed_p_tau.sort_values()\n",
    "theo_tau_p_sorted = theo_tau_p.sort_values()\n",
    "\n",
    "plt.tight_layout()\n",
    "plt.savefig('QQ_plots.pdf', transparent=True, bbox_inches = 'tight')\n"
   ]
  }
 ],
 "metadata": {
  "kernelspec": {
   "display_name": "py310",
   "language": "python",
   "name": "python3"
  },
  "language_info": {
   "codemirror_mode": {
    "name": "ipython",
    "version": 3
   },
   "file_extension": ".py",
   "mimetype": "text/x-python",
   "name": "python",
   "nbconvert_exporter": "python",
   "pygments_lexer": "ipython3",
   "version": "3.10.4"
  },
  "toc": {
   "base_numbering": 1,
   "nav_menu": {},
   "number_sections": true,
   "sideBar": true,
   "skip_h1_title": false,
   "title_cell": "Table of Contents",
   "title_sidebar": "Contents",
   "toc_cell": false,
   "toc_position": {},
   "toc_section_display": true,
   "toc_window_display": false
  },
  "vscode": {
   "interpreter": {
    "hash": "48aec0ae4c29259267eaa526fa91bcf2678eaedf47dd2732b9b84e1045c2f798"
   }
  }
 },
 "nbformat": 4,
 "nbformat_minor": 5
}
