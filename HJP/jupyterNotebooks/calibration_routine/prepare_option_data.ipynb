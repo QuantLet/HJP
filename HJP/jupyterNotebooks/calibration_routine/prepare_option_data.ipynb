{
 "cells": [
  {
   "cell_type": "code",
   "execution_count": 1,
   "id": "02962741",
   "metadata": {},
   "outputs": [
    {
     "name": "stderr",
     "output_type": "stream",
     "text": [
      "2023-12-14 14:22:58.669739: I tensorflow/core/platform/cpu_feature_guard.cc:182] This TensorFlow binary is optimized to use available CPU instructions in performance-critical operations.\n",
      "To enable the following instructions: AVX2 FMA, in other operations, rebuild TensorFlow with the appropriate compiler flags.\n"
     ]
    }
   ],
   "source": [
    "import pandas as pd\n",
    "import numpy as np\n",
    "import matplotlib.pyplot as plt\n",
    "import seaborn as sns\n",
    "from scipy.stats import kurtosis, skew, norm\n",
    "from scipy.optimize import minimize\n",
    "from numba import njit\n",
    "from typing import Tuple, Optional\n",
    "from enum import Enum\n",
    "import qis\n",
    "from dataclasses import fields, replace, asdict\n",
    "from datetime import datetime, timedelta\n",
    "import scipy.stats as ss\n",
    "import copy\n",
    "import scipy\n",
    "\n",
    "from scipy.interpolate import splrep, BSpline\n",
    "from numba.typed import List\n",
    "\n",
    "# analytics\n",
    "import sys\n",
    "sys.path.insert(0,'../../') # just for jupyter  notebook\n",
    "from stochvolmodels.pricers.hawkes_jd_pricer import HawkesJDParams, HawkesJDPricer, hawkesjd_chain_pricer, unpack_and_transform_pars_for_measure_change, unpack_pars\n",
    "\n",
    "import tensorflow.experimental.numpy as tnp\n",
    "import tensorflow as tf\n",
    "tf.get_logger().setLevel('ERROR')\n",
    "from stochvolmodels.data.test_option_chain import get_btc_test_chain_data, get_gld_test_chain_data_6m, get_sqqq_test_chain_data, get_spy_test_chain_data\n",
    "from stochvolmodels.utils.funcs import to_flat_np_array, set_time_grid, timer, set_seed, transform_to_tfcomplex128, transform_from_tfcomplex128_to_np, slice_option_chain\n",
    "from stochvolmodels.data.option_chain import OptionChain\n",
    "\n",
    "import os\n",
    "from stochvolmodels.pricers.core.bsm_pricer import infer_bsm_implied_vol, compute_bsm_price\n",
    "import warnings\n",
    "from stochvolmodels.MLE_estimator import hawkes_jd\n",
    "from stochvolmodels.MLE_estimator import hawkes_jd_weekday\n",
    "\n",
    "import pickle\n",
    "warnings.filterwarnings('ignore')"
   ]
  },
  {
   "cell_type": "code",
   "execution_count": 2,
   "id": "5a40c53f",
   "metadata": {},
   "outputs": [],
   "source": [
    "def slice_option_chain(option_chain, ids_i):\n",
    "    option_chain = copy.copy(option_chain)\n",
    "    replacements = dict()\n",
    "    for field in fields(option_chain):\n",
    "        field_name = field.name\n",
    "        option_chain_value = getattr(option_chain, field_name)\n",
    "        try:\n",
    "            replacements[field_name] = [option_chain_value[i] for i in ids_i]\n",
    "        except:\n",
    "            replacements[field_name] = option_chain_value\n",
    "            \n",
    "    return OptionChain(**replacements)"
   ]
  },
  {
   "cell_type": "code",
   "execution_count": 3,
   "id": "7e9d69e4",
   "metadata": {},
   "outputs": [],
   "source": [
    "DAYS_PER_YEAR = 365\n",
    "HOURS_PER_YEAR = 365 * 24\n",
    "SECONDS_PER_YEAR = 365 * 24 * 60 * 60  # minute, seconds"
   ]
  },
  {
   "cell_type": "code",
   "execution_count": 6,
   "id": "172312d3",
   "metadata": {},
   "outputs": [
    {
     "name": "stdout",
     "output_type": "stream",
     "text": [
      "loaded\n",
      "left only 9am snapshots\n",
      "kept only the last iv snapshot of every contracts\n"
     ]
    }
   ],
   "source": [
    "options_BTC = pd.read_feather('../../../resources/deribit/BTC_freq_H.feather')\n",
    "print('loaded')\n",
    "\n",
    "_id = options_BTC.loc[:,'exchange_time'].apply(lambda x: x.hour) == 9\n",
    "options_BTC = options_BTC.loc[_id]\n",
    "print('left only 9am snapshots')\n",
    "\n",
    "options_BTC.loc[:,'datetime'] = pd.to_datetime(options_BTC.loc[:,'exchange_time'])\n",
    "options_BTC.loc[:,'datetime'] = options_BTC.loc[:,'datetime'].apply(lambda x:x.replace(tzinfo=None))\n",
    "\n",
    "options_BTC = options_BTC.drop_duplicates(subset=['index', 'contract'], keep='last')\n",
    "options_BTC.loc[:,'date'] = options_BTC.loc[:,'index'].copy()\n",
    "print('kept only the last iv snapshot of every contracts')\n",
    "\n",
    "options_BTC.loc[:,'forward'] = options_BTC.underlying_price\n",
    "options_BTC.strike = options_BTC.strike.apply(float)\n",
    "options_BTC.forward = options_BTC.forward.apply(float)\n",
    "\n",
    "# Daily options expire every day at 08:00 UTC. Weekly options expire on each Friday of each week at 08:00 UTC. Monthly options expire on the last Friday of each calendar month at 08:00 UTC. Quarterly options expire on the last Friday of each calendar quarter at 08:00 UTC.\n",
    "# https://www.deribit.com/kb/deribit-introduction-policy\n",
    "# options_BTC.ttm = options_BTC.ttm.apply(lambda x: x.total_seconds()/SECONDS_PER_YEAR)\n",
    "options_BTC.loc[:,'ids'] = options_BTC.ttm*365\n",
    "options_BTC.loc[:,'ids'] = options_BTC.loc[:,'ids'].apply(round)\n",
    "\n",
    "# remove options without bid or ask\n",
    "options_BTC = options_BTC.loc[options_BTC.ask_iv != 0,:]\n",
    "options_BTC = options_BTC.loc[options_BTC.ask_iv < 5,:]\n",
    "\n",
    "options_BTC = options_BTC.loc[options_BTC.bid_iv != 0,:]\n",
    "options_BTC = options_BTC.loc[options_BTC.bid_iv < 5,:]\n",
    "\n",
    "# remove large bid-ask spread\n",
    "options_BTC.loc[:, 'bid_ask_spread'] = (options_BTC.ask_iv - options_BTC.bid_iv)/options_BTC.bid_iv\n",
    "_id =  options_BTC.bid_ask_spread < 0.2\n",
    "options_BTC = options_BTC.loc[_id,:]\n",
    "\n",
    "# remove deep out-of-money options\n",
    "_id = options_BTC.strike/options_BTC.forward <= 1.2\n",
    "_id *= options_BTC.strike/options_BTC.forward >= .8\n",
    "options_BTC = options_BTC.loc[_id]\n",
    "\n",
    "# Drop duplicated call and put iv at same strike, keep the smaller spread one\n",
    "options_BTC = options_BTC.sort_values('bid_ask_spread')\n",
    "options_BTC = options_BTC.drop_duplicates(['strike', 'exchange_time', 'ids'],keep='first')\n",
    "options_BTC = options_BTC.sort_values(['ttm','strike'])"
   ]
  },
  {
   "cell_type": "code",
   "execution_count": 7,
   "id": "53765e05",
   "metadata": {},
   "outputs": [
    {
     "data": {
      "text/plain": [
       "(Timestamp('2019-03-30 09:00:00+0000', tz='UTC'),\n",
       " Timestamp('2023-10-04 09:00:00+0000', tz='UTC'))"
      ]
     },
     "execution_count": 7,
     "metadata": {},
     "output_type": "execute_result"
    }
   ],
   "source": [
    "options_BTC.exchange_time.min(), options_BTC.exchange_time.max()"
   ]
  },
  {
   "cell_type": "code",
   "execution_count": 8,
   "id": "12c83841",
   "metadata": {},
   "outputs": [],
   "source": [
    "# options_start = '2019-03-30' \n",
    "options_start = '2019-05-30' # 1 month options starting day\n",
    "options_end   = '2023-10-04' \n",
    "dates_arr     = [x.strftime('%Y-%m-%d') for x in pd.date_range(options_start, options_end, freq='D', inclusive=\"both\")]"
   ]
  },
  {
   "cell_type": "code",
   "execution_count": 9,
   "id": "08e45881",
   "metadata": {},
   "outputs": [],
   "source": [
    "BTC_option_chain_dict = dict()\n",
    "\n",
    "for date in dates_arr:\n",
    "    _date = date + ' 09:00:00+00:00'\n",
    "    chain_of_day = options_BTC.query('exchange_time == @_date')\n",
    "    Moneyness = chain_of_day.strike/chain_of_day.underlying_price\n",
    "    ttms = np.unique(chain_of_day.ttm)\n",
    "    strikes_ttms = []\n",
    "    forwards_ttms = []\n",
    "\n",
    "    bid_iv_ttms = []\n",
    "    ask_iv_ttms = []\n",
    "\n",
    "    discfactors_ttms = []\n",
    "    optiontypes_ttms = []\n",
    "\n",
    "    ids = np.unique(chain_of_day.ids)\n",
    "\n",
    "    for _ttm in ttms:\n",
    "        chain_of_day_ttm_slice = chain_of_day.query('ttm == @_ttm')\n",
    "        chain_of_day_ttm_slice.loc[:,'Moneyness'] = chain_of_day_ttm_slice.strike/chain_of_day_ttm_slice.underlying_price\n",
    "        \n",
    "        chain_of_day_ttm_slice = chain_of_day_ttm_slice.drop_duplicates(['Moneyness'], keep='first')\n",
    "        mean_price = np.mean(chain_of_day_ttm_slice.underlying_price)\n",
    "        \n",
    "        strikes_ttms.append(np.array(chain_of_day_ttm_slice.loc[:,'Moneyness'])*mean_price)\n",
    "        forwards_ttms.append(np.array([mean_price]))\n",
    "        bid_iv_ttms.append(np.array(chain_of_day_ttm_slice.bid_iv))\n",
    "        ask_iv_ttms.append(np.array(chain_of_day_ttm_slice.ask_iv))\n",
    "        discfactors_ttms.append(np.array([1]))\n",
    "        optiontypes_ttms.append(np.array(chain_of_day_ttm_slice.optiontype, dtype='<U1'))\n",
    "        \n",
    "    BTC_option_chain = OptionChain(ids=ids,\n",
    "                        ttms=ttms,\n",
    "                        ticker='BTC',\n",
    "                        forwards=forwards_ttms,\n",
    "                        strikes_ttms=strikes_ttms,\n",
    "                        optiontypes_ttms=optiontypes_ttms,\n",
    "                        discfactors=discfactors_ttms,\n",
    "                        bid_ivs=bid_iv_ttms,\n",
    "                        ask_ivs=ask_iv_ttms)\n",
    "    \n",
    "    BTC_option_chain_dict[date] = BTC_option_chain"
   ]
  },
  {
   "cell_type": "code",
   "execution_count": 11,
   "id": "42e2c426",
   "metadata": {},
   "outputs": [],
   "source": [
    "_1d = 1/365\n",
    "_2d = 2/365\n",
    "_3d = 3/365\n",
    "\n",
    "_1w = 7/365\n",
    "_2w = 14/365\n",
    "_3w = 21/365\n",
    "\n",
    "_1m = 30/365\n",
    "_2m = 60/365\n",
    "_3m = 90/365\n",
    "_6m = 180/365\n",
    "_9m = 270/365\n",
    "_1y = 1\n",
    "\n",
    "_15m = _1y + _3m\n",
    "_18m = _1y + _6m\n",
    "_21m = _1y + _9m\n",
    "\n",
    "_ids_list = ['0d', '1d', '2d', '3d',\n",
    "        '1w', '2w', '3w', \n",
    "        '1m', '2m', '3m',\n",
    "        '6m', '9m', '1y',\n",
    "        '15m', '18m', '21m']\n",
    "\n",
    "ttms_list = [0, _1d, _2d, _3d,\n",
    "             _1w, _2w, _3w,\n",
    "             _1m, _2m, _3m,\n",
    "             _6m, _9m, _1y, \n",
    "             _15m, _18m, _21m]\n",
    "\n",
    "ttms_to_ids = dict(zip(ttms_list, _ids_list))\n",
    "_ids_to_ttms = dict(zip(_ids_list, ttms_list))\n",
    "\n",
    "def options_ttms_to_ids(options_ttms):\n",
    "    # options_ttms must be sorted in ascending order in advance\n",
    "    options_ttms_ids = dict()\n",
    "\n",
    "    for k in _ids_to_ttms.keys():\n",
    "        for ttm in options_ttms[options_ttms+0.001 >= _ids_to_ttms[k]]:\n",
    "            options_ttms_ids[ttm] = k \n",
    "            \n",
    "    return options_ttms_ids.values()"
   ]
  },
  {
   "cell_type": "code",
   "execution_count": 12,
   "id": "28664768",
   "metadata": {},
   "outputs": [],
   "source": [
    "# Reassign ids\n",
    "for k in BTC_option_chain_dict.keys():\n",
    "    _ids = options_ttms_to_ids(BTC_option_chain_dict[k].ttms)\n",
    "    assert len(BTC_option_chain_dict[k].ids) == len(_ids)\n",
    "    BTC_option_chain_dict[k].ids = np.array(list(_ids))"
   ]
  },
  {
   "cell_type": "code",
   "execution_count": 19,
   "id": "c650b59e",
   "metadata": {},
   "outputs": [],
   "source": [
    "with open('BTC_option_chain.pickle', 'wb') as f:\n",
    "    pickle.dump(BTC_option_chain_dict, f)\n"
   ]
  }
 ],
 "metadata": {
  "kernelspec": {
   "display_name": "py310",
   "language": "python",
   "name": "python3"
  },
  "language_info": {
   "codemirror_mode": {
    "name": "ipython",
    "version": 3
   },
   "file_extension": ".py",
   "mimetype": "text/x-python",
   "name": "python",
   "nbconvert_exporter": "python",
   "pygments_lexer": "ipython3",
   "version": "3.10.4"
  },
  "toc": {
   "base_numbering": 1,
   "nav_menu": {},
   "number_sections": true,
   "sideBar": true,
   "skip_h1_title": false,
   "title_cell": "Table of Contents",
   "title_sidebar": "Contents",
   "toc_cell": false,
   "toc_position": {},
   "toc_section_display": true,
   "toc_window_display": false
  },
  "vscode": {
   "interpreter": {
    "hash": "48aec0ae4c29259267eaa526fa91bcf2678eaedf47dd2732b9b84e1045c2f798"
   }
  }
 },
 "nbformat": 4,
 "nbformat_minor": 5
}
